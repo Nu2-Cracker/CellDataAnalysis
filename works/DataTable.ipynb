{
 "cells": [
  {
   "cell_type": "code",
   "execution_count": 1,
   "metadata": {},
   "outputs": [],
   "source": [
    "\"\"\"\n",
    "Python3.9.3\n",
    "OS: Debian-buster\n",
    "\n",
    "[POINT]\n",
    "・Donarをキーに各CSVから読み込んだDataFrameをmergeする。\n",
    "\n",
    "\n",
    "jupyter nbconvert --execute --to html DataTable.ipynb\n",
    "\"\"\"\n",
    "\n",
    "import pandas as pd\n",
    "import numpy as np\n",
    "\n",
    "import matplotlib.pyplot as plt\n",
    "import seaborn as sns"
   ]
  },
  {
   "cell_type": "code",
   "execution_count": 2,
   "metadata": {
    "collapsed": false,
    "inputHidden": false,
    "outputHidden": false
   },
   "outputs": [],
   "source": [
    "cell_data_path = \"cell_data.csv\""
   ]
  },
  {
   "cell_type": "code",
   "execution_count": 3,
   "metadata": {
    "collapsed": false,
    "inputHidden": false,
    "outputHidden": false
   },
   "outputs": [],
   "source": [
    "df_cell = pd.read_csv(cell_data_path)"
   ]
  },
  {
   "cell_type": "code",
   "execution_count": 4,
   "metadata": {
    "collapsed": false,
    "inputHidden": false,
    "outputHidden": false
   },
   "outputs": [
    {
     "data": {
      "text/html": [
       "<div>\n",
       "<style scoped>\n",
       "    .dataframe tbody tr th:only-of-type {\n",
       "        vertical-align: middle;\n",
       "    }\n",
       "\n",
       "    .dataframe tbody tr th {\n",
       "        vertical-align: top;\n",
       "    }\n",
       "\n",
       "    .dataframe thead th {\n",
       "        text-align: right;\n",
       "    }\n",
       "</style>\n",
       "<table border=\"1\" class=\"dataframe\">\n",
       "  <thead>\n",
       "    <tr style=\"text-align: right;\">\n",
       "      <th></th>\n",
       "      <th>UID</th>\n",
       "      <th>X1</th>\n",
       "      <th>X2</th>\n",
       "      <th>CellType</th>\n",
       "      <th>Donor</th>\n",
       "    </tr>\n",
       "  </thead>\n",
       "  <tbody>\n",
       "    <tr>\n",
       "      <th>0</th>\n",
       "      <td>4861STDY7462257-AAACCTGCATGGGAAC</td>\n",
       "      <td>6.308161</td>\n",
       "      <td>-3.586926</td>\n",
       "      <td>T</td>\n",
       "      <td>A16</td>\n",
       "    </tr>\n",
       "    <tr>\n",
       "      <th>1</th>\n",
       "      <td>4861STDY7462257-AAAGATGGTGTGACGA</td>\n",
       "      <td>2.006791</td>\n",
       "      <td>-7.994239</td>\n",
       "      <td>T</td>\n",
       "      <td>A16</td>\n",
       "    </tr>\n",
       "    <tr>\n",
       "      <th>2</th>\n",
       "      <td>4861STDY7462257-AACTCCCGTCCAAGTT</td>\n",
       "      <td>-6.246193</td>\n",
       "      <td>-6.825125</td>\n",
       "      <td>T</td>\n",
       "      <td>A16</td>\n",
       "    </tr>\n",
       "    <tr>\n",
       "      <th>3</th>\n",
       "      <td>4861STDY7462257-AAGACCTCACGAGAGT</td>\n",
       "      <td>2.936845</td>\n",
       "      <td>-8.620646</td>\n",
       "      <td>T</td>\n",
       "      <td>A16</td>\n",
       "    </tr>\n",
       "    <tr>\n",
       "      <th>4</th>\n",
       "      <td>4861STDY7462257-AAGCCGCTCTAACTTC</td>\n",
       "      <td>-5.834578</td>\n",
       "      <td>0.225145</td>\n",
       "      <td>T</td>\n",
       "      <td>A16</td>\n",
       "    </tr>\n",
       "  </tbody>\n",
       "</table>\n",
       "</div>"
      ],
      "text/plain": [
       "                                UID        X1        X2 CellType Donor\n",
       "0  4861STDY7462257-AAACCTGCATGGGAAC  6.308161 -3.586926        T   A16\n",
       "1  4861STDY7462257-AAAGATGGTGTGACGA  2.006791 -7.994239        T   A16\n",
       "2  4861STDY7462257-AACTCCCGTCCAAGTT -6.246193 -6.825125        T   A16\n",
       "3  4861STDY7462257-AAGACCTCACGAGAGT  2.936845 -8.620646        T   A16\n",
       "4  4861STDY7462257-AAGCCGCTCTAACTTC -5.834578  0.225145        T   A16"
      ]
     },
     "execution_count": 4,
     "metadata": {},
     "output_type": "execute_result"
    }
   ],
   "source": [
    "df_cell.head()"
   ]
  },
  {
   "cell_type": "code",
   "execution_count": 5,
   "metadata": {
    "collapsed": false,
    "inputHidden": false,
    "outputHidden": false
   },
   "outputs": [
    {
     "name": "stdout",
     "output_type": "stream",
     "text": [
      "<class 'pandas.core.frame.DataFrame'>\n",
      "RangeIndex: 5938 entries, 0 to 5937\n",
      "Data columns (total 5 columns):\n",
      " #   Column    Non-Null Count  Dtype  \n",
      "---  ------    --------------  -----  \n",
      " 0   UID       5938 non-null   object \n",
      " 1   X1        5938 non-null   float64\n",
      " 2   X2        5938 non-null   float64\n",
      " 3   CellType  5938 non-null   object \n",
      " 4   Donor     5938 non-null   object \n",
      "dtypes: float64(2), object(3)\n",
      "memory usage: 232.1+ KB\n"
     ]
    }
   ],
   "source": [
    "df_cell.info()"
   ]
  },
  {
   "cell_type": "code",
   "execution_count": 6,
   "metadata": {
    "collapsed": false,
    "inputHidden": false,
    "outputHidden": false
   },
   "outputs": [
    {
     "data": {
      "text/plain": [
       "UID         0\n",
       "X1          0\n",
       "X2          0\n",
       "CellType    0\n",
       "Donor       0\n",
       "dtype: int64"
      ]
     },
     "execution_count": 6,
     "metadata": {},
     "output_type": "execute_result"
    }
   ],
   "source": [
    "df_cell.isnull().sum()"
   ]
  },
  {
   "cell_type": "code",
   "execution_count": 7,
   "metadata": {
    "collapsed": false,
    "inputHidden": false,
    "outputHidden": false
   },
   "outputs": [],
   "source": [
    "donorpath = \"donor_info.csv\"\n",
    "df_donor = pd.read_csv(donorpath)\n"
   ]
  },
  {
   "cell_type": "code",
   "execution_count": 8,
   "metadata": {
    "collapsed": false,
    "inputHidden": false,
    "outputHidden": false
   },
   "outputs": [
    {
     "data": {
      "text/html": [
       "<div>\n",
       "<style scoped>\n",
       "    .dataframe tbody tr th:only-of-type {\n",
       "        vertical-align: middle;\n",
       "    }\n",
       "\n",
       "    .dataframe tbody tr th {\n",
       "        vertical-align: top;\n",
       "    }\n",
       "\n",
       "    .dataframe thead th {\n",
       "        text-align: right;\n",
       "    }\n",
       "</style>\n",
       "<table border=\"1\" class=\"dataframe\">\n",
       "  <thead>\n",
       "    <tr style=\"text-align: right;\">\n",
       "      <th></th>\n",
       "      <th>Donor</th>\n",
       "      <th>Age</th>\n",
       "      <th>Gender</th>\n",
       "    </tr>\n",
       "  </thead>\n",
       "  <tbody>\n",
       "    <tr>\n",
       "      <th>0</th>\n",
       "      <td>F21</td>\n",
       "      <td>0.31</td>\n",
       "      <td>Male</td>\n",
       "    </tr>\n",
       "    <tr>\n",
       "      <th>1</th>\n",
       "      <td>F22</td>\n",
       "      <td>0.17</td>\n",
       "      <td>Female</td>\n",
       "    </tr>\n",
       "    <tr>\n",
       "      <th>2</th>\n",
       "      <td>F23</td>\n",
       "      <td>0.21</td>\n",
       "      <td>Male</td>\n",
       "    </tr>\n",
       "    <tr>\n",
       "      <th>3</th>\n",
       "      <td>F29</td>\n",
       "      <td>0.33</td>\n",
       "      <td>Female</td>\n",
       "    </tr>\n",
       "    <tr>\n",
       "      <th>4</th>\n",
       "      <td>F30</td>\n",
       "      <td>0.27</td>\n",
       "      <td>Male</td>\n",
       "    </tr>\n",
       "  </tbody>\n",
       "</table>\n",
       "</div>"
      ],
      "text/plain": [
       "  Donor   Age  Gender\n",
       "0   F21  0.31    Male\n",
       "1   F22  0.17  Female\n",
       "2   F23  0.21    Male\n",
       "3   F29  0.33  Female\n",
       "4   F30  0.27    Male"
      ]
     },
     "execution_count": 8,
     "metadata": {},
     "output_type": "execute_result"
    }
   ],
   "source": [
    "df_donor.head()"
   ]
  },
  {
   "cell_type": "code",
   "execution_count": 9,
   "metadata": {
    "collapsed": false,
    "inputHidden": false,
    "outputHidden": false
   },
   "outputs": [],
   "source": [
    "#比べたいもの\n",
    "# 男性と女性でのT細胞の比率の差"
   ]
  },
  {
   "cell_type": "code",
   "execution_count": 10,
   "metadata": {
    "collapsed": false,
    "inputHidden": false,
    "outputHidden": false
   },
   "outputs": [
    {
     "name": "stdout",
     "output_type": "stream",
     "text": [
      "<class 'pandas.core.frame.DataFrame'>\n",
      "RangeIndex: 23 entries, 0 to 22\n",
      "Data columns (total 3 columns):\n",
      " #   Column  Non-Null Count  Dtype  \n",
      "---  ------  --------------  -----  \n",
      " 0   Donor   23 non-null     object \n",
      " 1   Age     23 non-null     float64\n",
      " 2   Gender  23 non-null     object \n",
      "dtypes: float64(1), object(2)\n",
      "memory usage: 680.0+ bytes\n"
     ]
    }
   ],
   "source": [
    "df_donor.info()"
   ]
  },
  {
   "cell_type": "code",
   "execution_count": 11,
   "metadata": {
    "collapsed": false,
    "inputHidden": false,
    "outputHidden": false
   },
   "outputs": [
    {
     "data": {
      "text/plain": [
       "array(['F21', 'F22', 'F23', 'F29', 'F30', 'F38', 'F41', 'F45', 'A16',\n",
       "       'P1', 'P2', 'P3', 'F64', 'F67', 'C34', 'T03', 'T06', 'T07', 'F83',\n",
       "       'C40', 'C41', 'A43', 'F74'], dtype=object)"
      ]
     },
     "execution_count": 11,
     "metadata": {},
     "output_type": "execute_result"
    }
   ],
   "source": [
    "df_donor[\"Donor\"].unique()"
   ]
  },
  {
   "cell_type": "code",
   "execution_count": 12,
   "metadata": {
    "collapsed": false,
    "inputHidden": false,
    "outputHidden": false
   },
   "outputs": [
    {
     "data": {
      "text/plain": [
       "array(['A16', 'C34', 'F22', 'F64', 'F67', 'F74', 'T03', 'T06', 'T07',\n",
       "       'A43', 'C40', 'C41'], dtype=object)"
      ]
     },
     "execution_count": 12,
     "metadata": {},
     "output_type": "execute_result"
    }
   ],
   "source": [
    "df_cell[\"Donor\"].unique()"
   ]
  },
  {
   "cell_type": "code",
   "execution_count": 13,
   "metadata": {
    "collapsed": false,
    "inputHidden": false,
    "outputHidden": false
   },
   "outputs": [],
   "source": [
    "# df_donor[\"Donor\"]とdf_cell[\"Donor\"]の値は完全一致しているわけではない"
   ]
  },
  {
   "cell_type": "code",
   "execution_count": 14,
   "metadata": {
    "collapsed": false,
    "inputHidden": false,
    "outputHidden": false
   },
   "outputs": [
    {
     "data": {
      "text/html": [
       "<div>\n",
       "<style scoped>\n",
       "    .dataframe tbody tr th:only-of-type {\n",
       "        vertical-align: middle;\n",
       "    }\n",
       "\n",
       "    .dataframe tbody tr th {\n",
       "        vertical-align: top;\n",
       "    }\n",
       "\n",
       "    .dataframe thead th {\n",
       "        text-align: right;\n",
       "    }\n",
       "</style>\n",
       "<table border=\"1\" class=\"dataframe\">\n",
       "  <thead>\n",
       "    <tr style=\"text-align: right;\">\n",
       "      <th></th>\n",
       "      <th>UID</th>\n",
       "      <th>X1</th>\n",
       "      <th>X2</th>\n",
       "      <th>CellType</th>\n",
       "      <th>Donor</th>\n",
       "      <th>Age</th>\n",
       "      <th>Gender</th>\n",
       "    </tr>\n",
       "  </thead>\n",
       "  <tbody>\n",
       "    <tr>\n",
       "      <th>0</th>\n",
       "      <td>NaN</td>\n",
       "      <td>NaN</td>\n",
       "      <td>NaN</td>\n",
       "      <td>NaN</td>\n",
       "      <td>F21</td>\n",
       "      <td>0.31</td>\n",
       "      <td>Male</td>\n",
       "    </tr>\n",
       "    <tr>\n",
       "      <th>1</th>\n",
       "      <td>FCAImmP7198432-AAAGCAATCTACTATC</td>\n",
       "      <td>-5.097418</td>\n",
       "      <td>0.803003</td>\n",
       "      <td>T</td>\n",
       "      <td>F22</td>\n",
       "      <td>0.17</td>\n",
       "      <td>Female</td>\n",
       "    </tr>\n",
       "    <tr>\n",
       "      <th>2</th>\n",
       "      <td>FCAImmP7198432-AACCGCGGTTGTGGAG</td>\n",
       "      <td>-3.488387</td>\n",
       "      <td>0.291474</td>\n",
       "      <td>T</td>\n",
       "      <td>F22</td>\n",
       "      <td>0.17</td>\n",
       "      <td>Female</td>\n",
       "    </tr>\n",
       "    <tr>\n",
       "      <th>3</th>\n",
       "      <td>FCAImmP7198432-AAGACCTGTAAGGATT</td>\n",
       "      <td>-6.490744</td>\n",
       "      <td>-4.097970</td>\n",
       "      <td>T</td>\n",
       "      <td>F22</td>\n",
       "      <td>0.17</td>\n",
       "      <td>Female</td>\n",
       "    </tr>\n",
       "    <tr>\n",
       "      <th>4</th>\n",
       "      <td>FCAImmP7198432-ACACTGACATATACGC</td>\n",
       "      <td>-4.816401</td>\n",
       "      <td>-5.631334</td>\n",
       "      <td>T</td>\n",
       "      <td>F22</td>\n",
       "      <td>0.17</td>\n",
       "      <td>Female</td>\n",
       "    </tr>\n",
       "  </tbody>\n",
       "</table>\n",
       "</div>"
      ],
      "text/plain": [
       "                               UID        X1        X2 CellType Donor   Age  \\\n",
       "0                              NaN       NaN       NaN      NaN   F21  0.31   \n",
       "1  FCAImmP7198432-AAAGCAATCTACTATC -5.097418  0.803003        T   F22  0.17   \n",
       "2  FCAImmP7198432-AACCGCGGTTGTGGAG -3.488387  0.291474        T   F22  0.17   \n",
       "3  FCAImmP7198432-AAGACCTGTAAGGATT -6.490744 -4.097970        T   F22  0.17   \n",
       "4  FCAImmP7198432-ACACTGACATATACGC -4.816401 -5.631334        T   F22  0.17   \n",
       "\n",
       "   Gender  \n",
       "0    Male  \n",
       "1  Female  \n",
       "2  Female  \n",
       "3  Female  \n",
       "4  Female  "
      ]
     },
     "execution_count": 14,
     "metadata": {},
     "output_type": "execute_result"
    }
   ],
   "source": [
    "#Donorを軸にmergeする\n",
    "df = pd.merge(df_cell, df_donor, how=\"right\", on=\"Donor\")\n",
    "df.head()"
   ]
  },
  {
   "cell_type": "code",
   "execution_count": 15,
   "metadata": {
    "collapsed": false,
    "inputHidden": false,
    "outputHidden": false
   },
   "outputs": [],
   "source": [
    "#Nanの入った行を全て削除する予定"
   ]
  },
  {
   "cell_type": "code",
   "execution_count": 16,
   "metadata": {
    "collapsed": false,
    "inputHidden": false,
    "outputHidden": false
   },
   "outputs": [
    {
     "name": "stdout",
     "output_type": "stream",
     "text": [
      "<class 'pandas.core.frame.DataFrame'>\n",
      "Int64Index: 5949 entries, 0 to 5948\n",
      "Data columns (total 7 columns):\n",
      " #   Column    Non-Null Count  Dtype  \n",
      "---  ------    --------------  -----  \n",
      " 0   UID       5938 non-null   object \n",
      " 1   X1        5938 non-null   float64\n",
      " 2   X2        5938 non-null   float64\n",
      " 3   CellType  5938 non-null   object \n",
      " 4   Donor     5949 non-null   object \n",
      " 5   Age       5949 non-null   float64\n",
      " 6   Gender    5949 non-null   object \n",
      "dtypes: float64(3), object(4)\n",
      "memory usage: 371.8+ KB\n"
     ]
    }
   ],
   "source": [
    "df.info()"
   ]
  },
  {
   "cell_type": "code",
   "execution_count": 17,
   "metadata": {
    "collapsed": false,
    "inputHidden": false,
    "outputHidden": false
   },
   "outputs": [
    {
     "data": {
      "text/plain": [
       "UID         11\n",
       "X1          11\n",
       "X2          11\n",
       "CellType    11\n",
       "Donor        0\n",
       "Age          0\n",
       "Gender       0\n",
       "dtype: int64"
      ]
     },
     "execution_count": 17,
     "metadata": {},
     "output_type": "execute_result"
    }
   ],
   "source": [
    "#各columnのnullの確認\n",
    "df.isnull().sum()"
   ]
  },
  {
   "cell_type": "code",
   "execution_count": 18,
   "metadata": {
    "collapsed": false,
    "inputHidden": false,
    "outputHidden": false
   },
   "outputs": [
    {
     "data": {
      "text/html": [
       "<div>\n",
       "<style scoped>\n",
       "    .dataframe tbody tr th:only-of-type {\n",
       "        vertical-align: middle;\n",
       "    }\n",
       "\n",
       "    .dataframe tbody tr th {\n",
       "        vertical-align: top;\n",
       "    }\n",
       "\n",
       "    .dataframe thead th {\n",
       "        text-align: right;\n",
       "    }\n",
       "</style>\n",
       "<table border=\"1\" class=\"dataframe\">\n",
       "  <thead>\n",
       "    <tr style=\"text-align: right;\">\n",
       "      <th></th>\n",
       "      <th>UID</th>\n",
       "      <th>X1</th>\n",
       "      <th>X2</th>\n",
       "      <th>CellType</th>\n",
       "      <th>Donor</th>\n",
       "      <th>Age</th>\n",
       "      <th>Gender</th>\n",
       "    </tr>\n",
       "  </thead>\n",
       "  <tbody>\n",
       "    <tr>\n",
       "      <th>1</th>\n",
       "      <td>FCAImmP7198432-AAAGCAATCTACTATC</td>\n",
       "      <td>-5.097418</td>\n",
       "      <td>0.803003</td>\n",
       "      <td>T</td>\n",
       "      <td>F22</td>\n",
       "      <td>0.17</td>\n",
       "      <td>Female</td>\n",
       "    </tr>\n",
       "    <tr>\n",
       "      <th>2</th>\n",
       "      <td>FCAImmP7198432-AACCGCGGTTGTGGAG</td>\n",
       "      <td>-3.488387</td>\n",
       "      <td>0.291474</td>\n",
       "      <td>T</td>\n",
       "      <td>F22</td>\n",
       "      <td>0.17</td>\n",
       "      <td>Female</td>\n",
       "    </tr>\n",
       "    <tr>\n",
       "      <th>3</th>\n",
       "      <td>FCAImmP7198432-AAGACCTGTAAGGATT</td>\n",
       "      <td>-6.490744</td>\n",
       "      <td>-4.097970</td>\n",
       "      <td>T</td>\n",
       "      <td>F22</td>\n",
       "      <td>0.17</td>\n",
       "      <td>Female</td>\n",
       "    </tr>\n",
       "    <tr>\n",
       "      <th>4</th>\n",
       "      <td>FCAImmP7198432-ACACTGACATATACGC</td>\n",
       "      <td>-4.816401</td>\n",
       "      <td>-5.631334</td>\n",
       "      <td>T</td>\n",
       "      <td>F22</td>\n",
       "      <td>0.17</td>\n",
       "      <td>Female</td>\n",
       "    </tr>\n",
       "    <tr>\n",
       "      <th>5</th>\n",
       "      <td>FCAImmP7198432-ACAGCTATCTACTATC</td>\n",
       "      <td>-7.179873</td>\n",
       "      <td>-2.754704</td>\n",
       "      <td>T</td>\n",
       "      <td>F22</td>\n",
       "      <td>0.17</td>\n",
       "      <td>Female</td>\n",
       "    </tr>\n",
       "    <tr>\n",
       "      <th>...</th>\n",
       "      <td>...</td>\n",
       "      <td>...</td>\n",
       "      <td>...</td>\n",
       "      <td>...</td>\n",
       "      <td>...</td>\n",
       "      <td>...</td>\n",
       "      <td>...</td>\n",
       "    </tr>\n",
       "    <tr>\n",
       "      <th>5944</th>\n",
       "      <td>Human_colon_16S7985397-TGCGGGTTCGGTCTAA</td>\n",
       "      <td>-7.133275</td>\n",
       "      <td>9.076816</td>\n",
       "      <td>T</td>\n",
       "      <td>F74</td>\n",
       "      <td>0.19</td>\n",
       "      <td>Male</td>\n",
       "    </tr>\n",
       "    <tr>\n",
       "      <th>5945</th>\n",
       "      <td>Human_colon_16S7985397-TGGCGCACACAGCCCA</td>\n",
       "      <td>-4.059606</td>\n",
       "      <td>-5.125242</td>\n",
       "      <td>T</td>\n",
       "      <td>F74</td>\n",
       "      <td>0.19</td>\n",
       "      <td>Male</td>\n",
       "    </tr>\n",
       "    <tr>\n",
       "      <th>5946</th>\n",
       "      <td>Human_colon_16S7985397-TGGTTCCGTAGCCTCG</td>\n",
       "      <td>-0.004667</td>\n",
       "      <td>-5.592957</td>\n",
       "      <td>T</td>\n",
       "      <td>F74</td>\n",
       "      <td>0.19</td>\n",
       "      <td>Male</td>\n",
       "    </tr>\n",
       "    <tr>\n",
       "      <th>5947</th>\n",
       "      <td>Human_colon_16S7985397-TGTGGTACATCAGTAC</td>\n",
       "      <td>-6.294744</td>\n",
       "      <td>9.659031</td>\n",
       "      <td>T</td>\n",
       "      <td>F74</td>\n",
       "      <td>0.19</td>\n",
       "      <td>Male</td>\n",
       "    </tr>\n",
       "    <tr>\n",
       "      <th>5948</th>\n",
       "      <td>Human_colon_16S7985397-TTGCGTCTCTGGTGTA</td>\n",
       "      <td>-5.944676</td>\n",
       "      <td>-5.424124</td>\n",
       "      <td>T</td>\n",
       "      <td>F74</td>\n",
       "      <td>0.19</td>\n",
       "      <td>Male</td>\n",
       "    </tr>\n",
       "  </tbody>\n",
       "</table>\n",
       "<p>5938 rows × 7 columns</p>\n",
       "</div>"
      ],
      "text/plain": [
       "                                          UID        X1        X2 CellType  \\\n",
       "1             FCAImmP7198432-AAAGCAATCTACTATC -5.097418  0.803003        T   \n",
       "2             FCAImmP7198432-AACCGCGGTTGTGGAG -3.488387  0.291474        T   \n",
       "3             FCAImmP7198432-AAGACCTGTAAGGATT -6.490744 -4.097970        T   \n",
       "4             FCAImmP7198432-ACACTGACATATACGC -4.816401 -5.631334        T   \n",
       "5             FCAImmP7198432-ACAGCTATCTACTATC -7.179873 -2.754704        T   \n",
       "...                                       ...       ...       ...      ...   \n",
       "5944  Human_colon_16S7985397-TGCGGGTTCGGTCTAA -7.133275  9.076816        T   \n",
       "5945  Human_colon_16S7985397-TGGCGCACACAGCCCA -4.059606 -5.125242        T   \n",
       "5946  Human_colon_16S7985397-TGGTTCCGTAGCCTCG -0.004667 -5.592957        T   \n",
       "5947  Human_colon_16S7985397-TGTGGTACATCAGTAC -6.294744  9.659031        T   \n",
       "5948  Human_colon_16S7985397-TTGCGTCTCTGGTGTA -5.944676 -5.424124        T   \n",
       "\n",
       "     Donor   Age  Gender  \n",
       "1      F22  0.17  Female  \n",
       "2      F22  0.17  Female  \n",
       "3      F22  0.17  Female  \n",
       "4      F22  0.17  Female  \n",
       "5      F22  0.17  Female  \n",
       "...    ...   ...     ...  \n",
       "5944   F74  0.19    Male  \n",
       "5945   F74  0.19    Male  \n",
       "5946   F74  0.19    Male  \n",
       "5947   F74  0.19    Male  \n",
       "5948   F74  0.19    Male  \n",
       "\n",
       "[5938 rows x 7 columns]"
      ]
     },
     "execution_count": 18,
     "metadata": {},
     "output_type": "execute_result"
    }
   ],
   "source": [
    "#Nanの入った行を全て削除する\n",
    "df.dropna(how=\"any\")"
   ]
  },
  {
   "cell_type": "code",
   "execution_count": 19,
   "metadata": {
    "collapsed": false,
    "inputHidden": false,
    "outputHidden": false
   },
   "outputs": [],
   "source": [
    "df = df.dropna(how=\"any\")"
   ]
  },
  {
   "cell_type": "code",
   "execution_count": 20,
   "metadata": {
    "collapsed": false,
    "inputHidden": false,
    "outputHidden": false
   },
   "outputs": [
    {
     "data": {
      "text/plain": [
       "CellType  Gender\n",
       "B         Male      1797\n",
       "T         Male      1577\n",
       "          Female    1402\n",
       "B         Female    1162\n",
       "dtype: int64"
      ]
     },
     "execution_count": 20,
     "metadata": {},
     "output_type": "execute_result"
    }
   ],
   "source": [
    "df[[\"CellType\", \"Gender\"]].value_counts()"
   ]
  },
  {
   "cell_type": "code",
   "execution_count": 21,
   "metadata": {
    "collapsed": false,
    "inputHidden": false,
    "outputHidden": false
   },
   "outputs": [],
   "source": [
    "count = df[[\"CellType\", \"Gender\"]].value_counts()"
   ]
  },
  {
   "cell_type": "code",
   "execution_count": 22,
   "metadata": {
    "collapsed": false,
    "inputHidden": false,
    "outputHidden": false
   },
   "outputs": [
    {
     "name": "stdout",
     "output_type": "stream",
     "text": [
      "('B', 'Male')   1797\n",
      "('T', 'Male')   1577\n",
      "('T', 'Female')   1402\n",
      "('B', 'Female')   1162\n"
     ]
    }
   ],
   "source": [
    "for i, v in count.items():\n",
    "    print(i, \" \", v)"
   ]
  },
  {
   "cell_type": "code",
   "execution_count": 32,
   "metadata": {
    "collapsed": false,
    "inputHidden": false,
    "outputHidden": false
   },
   "outputs": [],
   "source": [
    "df_table = pd.DataFrame([[0,0], [0,0]], index=[\"B\", \"T\"], columns=[\"Male\", \"Female\"]) #init\n",
    "\n"
   ]
  },
  {
   "cell_type": "code",
   "execution_count": 33,
   "metadata": {
    "collapsed": false,
    "inputHidden": false,
    "outputHidden": false
   },
   "outputs": [],
   "source": [
    "#テーブルに格納\n",
    "for l, v in count.items():\n",
    "    df_table.loc[l[0], l[1]] = v"
   ]
  },
  {
   "cell_type": "code",
   "execution_count": 34,
   "metadata": {
    "collapsed": false,
    "inputHidden": false,
    "outputHidden": false
   },
   "outputs": [
    {
     "data": {
      "text/html": [
       "<div>\n",
       "<style scoped>\n",
       "    .dataframe tbody tr th:only-of-type {\n",
       "        vertical-align: middle;\n",
       "    }\n",
       "\n",
       "    .dataframe tbody tr th {\n",
       "        vertical-align: top;\n",
       "    }\n",
       "\n",
       "    .dataframe thead th {\n",
       "        text-align: right;\n",
       "    }\n",
       "</style>\n",
       "<table border=\"1\" class=\"dataframe\">\n",
       "  <thead>\n",
       "    <tr style=\"text-align: right;\">\n",
       "      <th></th>\n",
       "      <th>Male</th>\n",
       "      <th>Female</th>\n",
       "    </tr>\n",
       "  </thead>\n",
       "  <tbody>\n",
       "    <tr>\n",
       "      <th>B</th>\n",
       "      <td>1797</td>\n",
       "      <td>1162</td>\n",
       "    </tr>\n",
       "    <tr>\n",
       "      <th>T</th>\n",
       "      <td>1577</td>\n",
       "      <td>1402</td>\n",
       "    </tr>\n",
       "  </tbody>\n",
       "</table>\n",
       "</div>"
      ],
      "text/plain": [
       "   Male  Female\n",
       "B  1797    1162\n",
       "T  1577    1402"
      ]
     },
     "execution_count": 34,
     "metadata": {},
     "output_type": "execute_result"
    }
   ],
   "source": [
    "df_table"
   ]
  },
  {
   "cell_type": "code",
   "execution_count": 28,
   "metadata": {
    "collapsed": false,
    "inputHidden": false,
    "outputHidden": false
   },
   "outputs": [
    {
     "data": {
      "text/plain": [
       "'\\n\\n母比率の差の検定\\n# ある生物学者が、男性と女性のドナーではT細胞とB細胞の比率に違いがあると主張しています。\\n# 帰無仮説: 違い無し\\n# 対立仮説: 違いあり\\n\\n有意水準5%で検定をおこなう\\n'"
      ]
     },
     "execution_count": 28,
     "metadata": {},
     "output_type": "execute_result"
    }
   ],
   "source": [
    "\"\"\"\n",
    "\n",
    "カイ二乗検定\n",
    "# ある生物学者が、男性と女性のドナーではT細胞とB細胞の比率に違いがあると主張しています。\n",
    "# 帰無仮説: 違い無し\n",
    "# 対立仮説: 違いあり\n",
    "\n",
    "有意水準5%で検定をおこなう\n",
    "\"\"\""
   ]
  },
  {
   "cell_type": "code",
   "execution_count": 37,
   "metadata": {
    "collapsed": false,
    "inputHidden": false,
    "outputHidden": false
   },
   "outputs": [
    {
     "name": "stdout",
     "output_type": "stream",
     "text": [
      "カイ二乗値は 36.426010086753955\n",
      "確率は 1.5857290680554595e-09\n",
      "自由度は 1\n",
      "[[1681.31795217 1277.68204783]\n",
      " [1692.68204783 1286.31795217]]\n",
      "有意な差があります\n"
     ]
    }
   ],
   "source": [
    "import scipy as sp\n",
    "import scipy.stats\n",
    "\n",
    "x2, p, dof, expected = sp.stats.chi2_contingency(df_table)\n",
    "\n",
    "print(\"カイ二乗値は %(x2)s\" %locals() )\n",
    "print(\"確率は %(p)s\" %locals() )\n",
    "print(\"自由度は %(dof)s\" %locals() )\n",
    "print( expected )\n",
    "\n",
    "if p < 0.05:\n",
    "    print(\"有意な差があります\")\n",
    "else:\n",
    "    print(\"有意な差がありません\")"
   ]
  },
  {
   "cell_type": "code",
   "execution_count": 29,
   "metadata": {
    "collapsed": false,
    "inputHidden": false,
    "outputHidden": false
   },
   "outputs": [],
   "source": [
    "#よって生物学者の主張が通る"
   ]
  },
  {
   "cell_type": "code",
   "execution_count": 29,
   "metadata": {
    "collapsed": false,
    "inputHidden": false,
    "outputHidden": false
   },
   "outputs": [],
   "source": []
  },
  {
   "cell_type": "code",
   "execution_count": 29,
   "metadata": {
    "collapsed": false,
    "inputHidden": false,
    "outputHidden": false
   },
   "outputs": [],
   "source": []
  },
  {
   "cell_type": "code",
   "execution_count": null,
   "metadata": {
    "collapsed": false,
    "inputHidden": false,
    "outputHidden": false
   },
   "outputs": [],
   "source": []
  }
 ],
 "metadata": {
  "kernelspec": {
   "display_name": "Python 3",
   "language": "python",
   "name": "python3"
  },
  "language_info": {
   "codemirror_mode": {
    "name": "ipython",
    "version": 3
   },
   "file_extension": ".py",
   "mimetype": "text/x-python",
   "name": "python",
   "nbconvert_exporter": "python",
   "pygments_lexer": "ipython3",
   "version": "3.9.3"
  },
  "nteract": {
   "version": "nteract-on-jupyter@2.1.3"
  }
 },
 "nbformat": 4,
 "nbformat_minor": 2
}
