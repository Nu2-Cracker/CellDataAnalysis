{
 "cells": [
  {
   "cell_type": "code",
   "execution_count": 1,
   "metadata": {},
   "outputs": [],
   "source": [
    "# K-Means法を使う"
   ]
  },
  {
   "cell_type": "code",
   "execution_count": 2,
   "metadata": {
    "collapsed": false,
    "inputHidden": false,
    "outputHidden": false
   },
   "outputs": [],
   "source": [
    "import pandas as pd\n",
    "import numpy as np\n",
    "import os\n",
    "import matplotlib.pyplot as plt\n",
    "import seaborn as sns"
   ]
  },
  {
   "cell_type": "code",
   "execution_count": 3,
   "metadata": {
    "collapsed": false,
    "inputHidden": false,
    "outputHidden": false
   },
   "outputs": [],
   "source": [
    "path = [entry.path for entry in os.scandir(\"datas\")]"
   ]
  },
  {
   "cell_type": "code",
   "execution_count": 4,
   "metadata": {
    "collapsed": false,
    "inputHidden": false,
    "outputHidden": false
   },
   "outputs": [
    {
     "data": {
      "text/plain": [
       "['datas/cell_data.csv', 'datas/cell_data_additional.csv']"
      ]
     },
     "execution_count": 4,
     "metadata": {},
     "output_type": "execute_result"
    }
   ],
   "source": [
    "path "
   ]
  },
  {
   "cell_type": "code",
   "execution_count": 5,
   "metadata": {
    "collapsed": false,
    "inputHidden": false,
    "outputHidden": false
   },
   "outputs": [],
   "source": [
    "df1 = pd.read_csv(path[0])"
   ]
  },
  {
   "cell_type": "code",
   "execution_count": 6,
   "metadata": {
    "collapsed": false,
    "inputHidden": false,
    "outputHidden": false
   },
   "outputs": [
    {
     "data": {
      "text/html": [
       "<div>\n",
       "<style scoped>\n",
       "    .dataframe tbody tr th:only-of-type {\n",
       "        vertical-align: middle;\n",
       "    }\n",
       "\n",
       "    .dataframe tbody tr th {\n",
       "        vertical-align: top;\n",
       "    }\n",
       "\n",
       "    .dataframe thead th {\n",
       "        text-align: right;\n",
       "    }\n",
       "</style>\n",
       "<table border=\"1\" class=\"dataframe\">\n",
       "  <thead>\n",
       "    <tr style=\"text-align: right;\">\n",
       "      <th></th>\n",
       "      <th>UID</th>\n",
       "      <th>X1</th>\n",
       "      <th>X2</th>\n",
       "      <th>CellType</th>\n",
       "      <th>Donor</th>\n",
       "    </tr>\n",
       "  </thead>\n",
       "  <tbody>\n",
       "    <tr>\n",
       "      <th>0</th>\n",
       "      <td>4861STDY7462257-AAACCTGCATGGGAAC</td>\n",
       "      <td>6.308161</td>\n",
       "      <td>-3.586926</td>\n",
       "      <td>T</td>\n",
       "      <td>A16</td>\n",
       "    </tr>\n",
       "    <tr>\n",
       "      <th>1</th>\n",
       "      <td>4861STDY7462257-AAAGATGGTGTGACGA</td>\n",
       "      <td>2.006791</td>\n",
       "      <td>-7.994239</td>\n",
       "      <td>T</td>\n",
       "      <td>A16</td>\n",
       "    </tr>\n",
       "    <tr>\n",
       "      <th>2</th>\n",
       "      <td>4861STDY7462257-AACTCCCGTCCAAGTT</td>\n",
       "      <td>-6.246193</td>\n",
       "      <td>-6.825125</td>\n",
       "      <td>T</td>\n",
       "      <td>A16</td>\n",
       "    </tr>\n",
       "    <tr>\n",
       "      <th>3</th>\n",
       "      <td>4861STDY7462257-AAGACCTCACGAGAGT</td>\n",
       "      <td>2.936845</td>\n",
       "      <td>-8.620646</td>\n",
       "      <td>T</td>\n",
       "      <td>A16</td>\n",
       "    </tr>\n",
       "    <tr>\n",
       "      <th>4</th>\n",
       "      <td>4861STDY7462257-AAGCCGCTCTAACTTC</td>\n",
       "      <td>-5.834578</td>\n",
       "      <td>0.225145</td>\n",
       "      <td>T</td>\n",
       "      <td>A16</td>\n",
       "    </tr>\n",
       "  </tbody>\n",
       "</table>\n",
       "</div>"
      ],
      "text/plain": [
       "                                UID        X1        X2 CellType Donor\n",
       "0  4861STDY7462257-AAACCTGCATGGGAAC  6.308161 -3.586926        T   A16\n",
       "1  4861STDY7462257-AAAGATGGTGTGACGA  2.006791 -7.994239        T   A16\n",
       "2  4861STDY7462257-AACTCCCGTCCAAGTT -6.246193 -6.825125        T   A16\n",
       "3  4861STDY7462257-AAGACCTCACGAGAGT  2.936845 -8.620646        T   A16\n",
       "4  4861STDY7462257-AAGCCGCTCTAACTTC -5.834578  0.225145        T   A16"
      ]
     },
     "execution_count": 6,
     "metadata": {},
     "output_type": "execute_result"
    }
   ],
   "source": [
    "df1.head()"
   ]
  },
  {
   "cell_type": "code",
   "execution_count": 7,
   "metadata": {
    "collapsed": false,
    "inputHidden": false,
    "outputHidden": false
   },
   "outputs": [
    {
     "name": "stdout",
     "output_type": "stream",
     "text": [
      "<class 'pandas.core.frame.DataFrame'>\n",
      "RangeIndex: 5938 entries, 0 to 5937\n",
      "Data columns (total 5 columns):\n",
      " #   Column    Non-Null Count  Dtype  \n",
      "---  ------    --------------  -----  \n",
      " 0   UID       5938 non-null   object \n",
      " 1   X1        5938 non-null   float64\n",
      " 2   X2        5938 non-null   float64\n",
      " 3   CellType  5938 non-null   object \n",
      " 4   Donor     5938 non-null   object \n",
      "dtypes: float64(2), object(3)\n",
      "memory usage: 232.1+ KB\n"
     ]
    }
   ],
   "source": [
    "df1.info()"
   ]
  },
  {
   "cell_type": "code",
   "execution_count": 8,
   "metadata": {
    "collapsed": false,
    "inputHidden": false,
    "outputHidden": false
   },
   "outputs": [],
   "source": [
    "df2 = pd.read_csv(path[1])"
   ]
  },
  {
   "cell_type": "code",
   "execution_count": 9,
   "metadata": {
    "collapsed": false,
    "inputHidden": false,
    "outputHidden": false
   },
   "outputs": [
    {
     "name": "stdout",
     "output_type": "stream",
     "text": [
      "<class 'pandas.core.frame.DataFrame'>\n",
      "RangeIndex: 1485 entries, 0 to 1484\n",
      "Data columns (total 3 columns):\n",
      " #   Column  Non-Null Count  Dtype  \n",
      "---  ------  --------------  -----  \n",
      " 0   UID     1485 non-null   object \n",
      " 1   X1      1485 non-null   float64\n",
      " 2   X2      1485 non-null   float64\n",
      "dtypes: float64(2), object(1)\n",
      "memory usage: 34.9+ KB\n"
     ]
    }
   ],
   "source": [
    "df2.info()"
   ]
  },
  {
   "cell_type": "code",
   "execution_count": 10,
   "metadata": {
    "collapsed": false,
    "inputHidden": false,
    "outputHidden": false
   },
   "outputs": [],
   "source": [
    "# df1 学習データ\n",
    "# x1, x2でグラフとして表示"
   ]
  },
  {
   "cell_type": "code",
   "execution_count": 11,
   "metadata": {
    "collapsed": false,
    "inputHidden": false,
    "outputHidden": false
   },
   "outputs": [
    {
     "name": "stderr",
     "output_type": "stream",
     "text": [
      "/usr/local/lib/python3.9/site-packages/seaborn/_decorators.py:36: FutureWarning: Pass the following variables as keyword args: x, y. From version 0.12, the only valid positional argument will be `data`, and passing other arguments without an explicit keyword will result in an error or misinterpretation.\n",
      "  warnings.warn(\n"
     ]
    },
    {
     "data": {
      "image/png": "[encoded data removed]",
      "text/plain": [
       "<Figure size 432x432 with 3 Axes>"
      ]
     },
     "metadata": {
      "needs_background": "light"
     },
     "output_type": "display_data"
    }
   ],
   "source": [
    "sns.jointplot(df1[\"X1\"], df1[\"X2\"])\n",
    "plt.tight_layout()\n",
    "plt.show()"
   ]
  },
  {
   "cell_type": "code",
   "execution_count": 12,
   "metadata": {
    "collapsed": false,
    "inputHidden": false,
    "outputHidden": false
   },
   "outputs": [
    {
     "data": {
      "image/png": "[encoded data removed]",
      "text/plain": [
       "<Figure size 432x288 with 1 Axes>"
      ]
     },
     "metadata": {
      "needs_background": "light"
     },
     "output_type": "display_data"
    }
   ],
   "source": [
    "x = list(df1[\"X1\"])\n",
    "y = list(df1[\"X2\"])\n",
    "\n",
    "plt.scatter(x, y)\n",
    "\n",
    "annotations = df1[\"CellType\"]\n",
    "for i, label in enumerate(list(annotations)):\n",
    "    plt.annotate(label, (x[i], y[i]))\n",
    "                          \n",
    "plt.show()"
   ]
  },
  {
   "cell_type": "code",
   "execution_count": 13,
   "metadata": {
    "collapsed": false,
    "inputHidden": false,
    "outputHidden": false
   },
   "outputs": [],
   "source": []
  },
  {
   "cell_type": "code",
   "execution_count": 13,
   "metadata": {
    "collapsed": false,
    "inputHidden": false,
    "outputHidden": false
   },
   "outputs": [],
   "source": []
  },
  {
   "cell_type": "code",
   "execution_count": 13,
   "metadata": {
    "collapsed": false,
    "inputHidden": false,
    "outputHidden": false
   },
   "outputs": [
    {
     "data": {
      "text/plain": [
       "T    2979\n",
       "B    2959\n",
       "Name: CellType, dtype: int64"
      ]
     },
     "execution_count": 13,
     "metadata": {},
     "output_type": "execute_result"
    }
   ],
   "source": [
    "df1[\"CellType\"].value_counts()"
   ]
  },
  {
   "cell_type": "code",
   "execution_count": 14,
   "metadata": {
    "collapsed": false,
    "inputHidden": false,
    "outputHidden": false
   },
   "outputs": [],
   "source": [
    "#ユークリッド距離を求める\n",
    "#差の二乗の平方根\n",
    "# ((x2-x1)**2)**0.5"
   ]
  },
  {
   "cell_type": "code",
   "execution_count": 15,
   "metadata": {
    "collapsed": false,
    "inputHidden": false,
    "outputHidden": false
   },
   "outputs": [],
   "source": [
    "\n",
    "euclid = lambda x1, x2: ((x2-x1)**2)**0.5\n",
    "\n",
    "sqrt_ = [euclid(x1, x2) for x1, x2 in zip(df1[\"X1\"], df1[\"X2\"])]\n",
    "    \n",
    "\n"
   ]
  },
  {
   "cell_type": "code",
   "execution_count": 16,
   "metadata": {
    "collapsed": false,
    "inputHidden": false,
    "outputHidden": false
   },
   "outputs": [],
   "source": [
    "#求めた距離を追加\n",
    "df1[\"euclid\"] = sqrt_"
   ]
  },
  {
   "cell_type": "code",
   "execution_count": 17,
   "metadata": {
    "collapsed": false,
    "inputHidden": false,
    "outputHidden": false
   },
   "outputs": [
    {
     "data": {
      "text/html": [
       "<div>\n",
       "<style scoped>\n",
       "    .dataframe tbody tr th:only-of-type {\n",
       "        vertical-align: middle;\n",
       "    }\n",
       "\n",
       "    .dataframe tbody tr th {\n",
       "        vertical-align: top;\n",
       "    }\n",
       "\n",
       "    .dataframe thead th {\n",
       "        text-align: right;\n",
       "    }\n",
       "</style>\n",
       "<table border=\"1\" class=\"dataframe\">\n",
       "  <thead>\n",
       "    <tr style=\"text-align: right;\">\n",
       "      <th></th>\n",
       "      <th>UID</th>\n",
       "      <th>X1</th>\n",
       "      <th>X2</th>\n",
       "      <th>CellType</th>\n",
       "      <th>Donor</th>\n",
       "      <th>euclid</th>\n",
       "    </tr>\n",
       "  </thead>\n",
       "  <tbody>\n",
       "    <tr>\n",
       "      <th>0</th>\n",
       "      <td>4861STDY7462257-AAACCTGCATGGGAAC</td>\n",
       "      <td>6.308161</td>\n",
       "      <td>-3.586926</td>\n",
       "      <td>T</td>\n",
       "      <td>A16</td>\n",
       "      <td>9.895087</td>\n",
       "    </tr>\n",
       "    <tr>\n",
       "      <th>1</th>\n",
       "      <td>4861STDY7462257-AAAGATGGTGTGACGA</td>\n",
       "      <td>2.006791</td>\n",
       "      <td>-7.994239</td>\n",
       "      <td>T</td>\n",
       "      <td>A16</td>\n",
       "      <td>10.001030</td>\n",
       "    </tr>\n",
       "    <tr>\n",
       "      <th>2</th>\n",
       "      <td>4861STDY7462257-AACTCCCGTCCAAGTT</td>\n",
       "      <td>-6.246193</td>\n",
       "      <td>-6.825125</td>\n",
       "      <td>T</td>\n",
       "      <td>A16</td>\n",
       "      <td>0.578931</td>\n",
       "    </tr>\n",
       "    <tr>\n",
       "      <th>3</th>\n",
       "      <td>4861STDY7462257-AAGACCTCACGAGAGT</td>\n",
       "      <td>2.936845</td>\n",
       "      <td>-8.620646</td>\n",
       "      <td>T</td>\n",
       "      <td>A16</td>\n",
       "      <td>11.557491</td>\n",
       "    </tr>\n",
       "    <tr>\n",
       "      <th>4</th>\n",
       "      <td>4861STDY7462257-AAGCCGCTCTAACTTC</td>\n",
       "      <td>-5.834578</td>\n",
       "      <td>0.225145</td>\n",
       "      <td>T</td>\n",
       "      <td>A16</td>\n",
       "      <td>6.059723</td>\n",
       "    </tr>\n",
       "  </tbody>\n",
       "</table>\n",
       "</div>"
      ],
      "text/plain": [
       "                                UID        X1        X2 CellType Donor  \\\n",
       "0  4861STDY7462257-AAACCTGCATGGGAAC  6.308161 -3.586926        T   A16   \n",
       "1  4861STDY7462257-AAAGATGGTGTGACGA  2.006791 -7.994239        T   A16   \n",
       "2  4861STDY7462257-AACTCCCGTCCAAGTT -6.246193 -6.825125        T   A16   \n",
       "3  4861STDY7462257-AAGACCTCACGAGAGT  2.936845 -8.620646        T   A16   \n",
       "4  4861STDY7462257-AAGCCGCTCTAACTTC -5.834578  0.225145        T   A16   \n",
       "\n",
       "      euclid  \n",
       "0   9.895087  \n",
       "1  10.001030  \n",
       "2   0.578931  \n",
       "3  11.557491  \n",
       "4   6.059723  "
      ]
     },
     "execution_count": 17,
     "metadata": {},
     "output_type": "execute_result"
    }
   ],
   "source": [
    "df1.head()"
   ]
  },
  {
   "cell_type": "code",
   "execution_count": 18,
   "metadata": {
    "collapsed": false,
    "inputHidden": false,
    "outputHidden": false
   },
   "outputs": [],
   "source": [
    "#Celltype(質的データ)を量的データに置き換える\n",
    "#T=>0\n",
    "#B=>1\n",
    "\n",
    "#無名関数\n",
    "#lambda 引数: trueの結果 if文 else falseの結果\n",
    "#dataが\"T\"のとき0, そうじゃないとき(\"B\"のとき)1\n",
    "toQuantitative = lambda data: 0 if data == \"T\" else 1\n",
    "\n",
    "#df1[\"CellType\"]の各値全てにtoQuantitative関数を実行する\n",
    "q = list(map(toQuantitative, df1[\"CellType\"]))\n",
    "#以下と同義\n",
    "\n",
    "# q = []\n",
    "# for data in df1[\"CellType\"]:\n",
    "#     res = toQuantitative(data)\n",
    "#     q.append(res)\n",
    "\n",
    "#**こんなテクニカルな書き方をしている理由はpythonの場合こっちの方が簡潔にかけて実行速度が速いからです"
   ]
  },
  {
   "cell_type": "code",
   "execution_count": 19,
   "metadata": {
    "collapsed": false,
    "inputHidden": false,
    "outputHidden": false
   },
   "outputs": [],
   "source": [
    "#CellTypeを量的データに変換\n",
    "df1.loc[:, \"CellType\"] =  q"
   ]
  },
  {
   "cell_type": "code",
   "execution_count": 20,
   "metadata": {
    "collapsed": false,
    "inputHidden": false,
    "outputHidden": false
   },
   "outputs": [
    {
     "data": {
      "text/html": [
       "<div>\n",
       "<style scoped>\n",
       "    .dataframe tbody tr th:only-of-type {\n",
       "        vertical-align: middle;\n",
       "    }\n",
       "\n",
       "    .dataframe tbody tr th {\n",
       "        vertical-align: top;\n",
       "    }\n",
       "\n",
       "    .dataframe thead th {\n",
       "        text-align: right;\n",
       "    }\n",
       "</style>\n",
       "<table border=\"1\" class=\"dataframe\">\n",
       "  <thead>\n",
       "    <tr style=\"text-align: right;\">\n",
       "      <th></th>\n",
       "      <th>UID</th>\n",
       "      <th>X1</th>\n",
       "      <th>X2</th>\n",
       "      <th>CellType</th>\n",
       "      <th>Donor</th>\n",
       "      <th>euclid</th>\n",
       "    </tr>\n",
       "  </thead>\n",
       "  <tbody>\n",
       "    <tr>\n",
       "      <th>0</th>\n",
       "      <td>4861STDY7462257-AAACCTGCATGGGAAC</td>\n",
       "      <td>6.308161</td>\n",
       "      <td>-3.586926</td>\n",
       "      <td>0</td>\n",
       "      <td>A16</td>\n",
       "      <td>9.895087</td>\n",
       "    </tr>\n",
       "    <tr>\n",
       "      <th>1</th>\n",
       "      <td>4861STDY7462257-AAAGATGGTGTGACGA</td>\n",
       "      <td>2.006791</td>\n",
       "      <td>-7.994239</td>\n",
       "      <td>0</td>\n",
       "      <td>A16</td>\n",
       "      <td>10.001030</td>\n",
       "    </tr>\n",
       "    <tr>\n",
       "      <th>2</th>\n",
       "      <td>4861STDY7462257-AACTCCCGTCCAAGTT</td>\n",
       "      <td>-6.246193</td>\n",
       "      <td>-6.825125</td>\n",
       "      <td>0</td>\n",
       "      <td>A16</td>\n",
       "      <td>0.578931</td>\n",
       "    </tr>\n",
       "    <tr>\n",
       "      <th>3</th>\n",
       "      <td>4861STDY7462257-AAGACCTCACGAGAGT</td>\n",
       "      <td>2.936845</td>\n",
       "      <td>-8.620646</td>\n",
       "      <td>0</td>\n",
       "      <td>A16</td>\n",
       "      <td>11.557491</td>\n",
       "    </tr>\n",
       "    <tr>\n",
       "      <th>4</th>\n",
       "      <td>4861STDY7462257-AAGCCGCTCTAACTTC</td>\n",
       "      <td>-5.834578</td>\n",
       "      <td>0.225145</td>\n",
       "      <td>0</td>\n",
       "      <td>A16</td>\n",
       "      <td>6.059723</td>\n",
       "    </tr>\n",
       "  </tbody>\n",
       "</table>\n",
       "</div>"
      ],
      "text/plain": [
       "                                UID        X1        X2  CellType Donor  \\\n",
       "0  4861STDY7462257-AAACCTGCATGGGAAC  6.308161 -3.586926         0   A16   \n",
       "1  4861STDY7462257-AAAGATGGTGTGACGA  2.006791 -7.994239         0   A16   \n",
       "2  4861STDY7462257-AACTCCCGTCCAAGTT -6.246193 -6.825125         0   A16   \n",
       "3  4861STDY7462257-AAGACCTCACGAGAGT  2.936845 -8.620646         0   A16   \n",
       "4  4861STDY7462257-AAGCCGCTCTAACTTC -5.834578  0.225145         0   A16   \n",
       "\n",
       "      euclid  \n",
       "0   9.895087  \n",
       "1  10.001030  \n",
       "2   0.578931  \n",
       "3  11.557491  \n",
       "4   6.059723  "
      ]
     },
     "execution_count": 20,
     "metadata": {},
     "output_type": "execute_result"
    }
   ],
   "source": [
    "df1.head()"
   ]
  },
  {
   "cell_type": "code",
   "execution_count": 21,
   "metadata": {
    "collapsed": false,
    "inputHidden": false,
    "outputHidden": false
   },
   "outputs": [],
   "source": [
    "index = df1.index\n",
    "idnex = list(index)"
   ]
  },
  {
   "cell_type": "code",
   "execution_count": 22,
   "metadata": {
    "collapsed": false,
    "inputHidden": false,
    "outputHidden": false
   },
   "outputs": [
    {
     "data": {
      "text/plain": [
       "<matplotlib.collections.PathCollection at 0x7f32a2332a30>"
      ]
     },
     "execution_count": 22,
     "metadata": {},
     "output_type": "execute_result"
    },
    {
     "data": {
      "image/png": "[encoded data removed]",
      "text/plain": [
       "<Figure size 432x288 with 1 Axes>"
      ]
     },
     "metadata": {
      "needs_background": "light"
     },
     "output_type": "display_data"
    }
   ],
   "source": [
    "plt.scatter(index, df1[\"euclid\"])"
   ]
  },
  {
   "cell_type": "code",
   "execution_count": 23,
   "metadata": {
    "collapsed": false,
    "inputHidden": false,
    "outputHidden": false
   },
   "outputs": [],
   "source": [
    "#TとBの信頼区間を求めて分類??"
   ]
  },
  {
   "cell_type": "code",
   "execution_count": 24,
   "metadata": {
    "collapsed": false,
    "inputHidden": false,
    "outputHidden": false
   },
   "outputs": [
    {
     "data": {
      "text/html": [
       "<div>\n",
       "<style scoped>\n",
       "    .dataframe tbody tr th:only-of-type {\n",
       "        vertical-align: middle;\n",
       "    }\n",
       "\n",
       "    .dataframe tbody tr th {\n",
       "        vertical-align: top;\n",
       "    }\n",
       "\n",
       "    .dataframe thead th {\n",
       "        text-align: right;\n",
       "    }\n",
       "</style>\n",
       "<table border=\"1\" class=\"dataframe\">\n",
       "  <thead>\n",
       "    <tr style=\"text-align: right;\">\n",
       "      <th></th>\n",
       "      <th>UID</th>\n",
       "      <th>X1</th>\n",
       "      <th>X2</th>\n",
       "      <th>CellType</th>\n",
       "      <th>Donor</th>\n",
       "      <th>euclid</th>\n",
       "    </tr>\n",
       "  </thead>\n",
       "  <tbody>\n",
       "    <tr>\n",
       "      <th>0</th>\n",
       "      <td>4861STDY7462257-AAACCTGCATGGGAAC</td>\n",
       "      <td>6.308161</td>\n",
       "      <td>-3.586926</td>\n",
       "      <td>0</td>\n",
       "      <td>A16</td>\n",
       "      <td>9.895087</td>\n",
       "    </tr>\n",
       "    <tr>\n",
       "      <th>1</th>\n",
       "      <td>4861STDY7462257-AAAGATGGTGTGACGA</td>\n",
       "      <td>2.006791</td>\n",
       "      <td>-7.994239</td>\n",
       "      <td>0</td>\n",
       "      <td>A16</td>\n",
       "      <td>10.001030</td>\n",
       "    </tr>\n",
       "    <tr>\n",
       "      <th>2</th>\n",
       "      <td>4861STDY7462257-AACTCCCGTCCAAGTT</td>\n",
       "      <td>-6.246193</td>\n",
       "      <td>-6.825125</td>\n",
       "      <td>0</td>\n",
       "      <td>A16</td>\n",
       "      <td>0.578931</td>\n",
       "    </tr>\n",
       "    <tr>\n",
       "      <th>3</th>\n",
       "      <td>4861STDY7462257-AAGACCTCACGAGAGT</td>\n",
       "      <td>2.936845</td>\n",
       "      <td>-8.620646</td>\n",
       "      <td>0</td>\n",
       "      <td>A16</td>\n",
       "      <td>11.557491</td>\n",
       "    </tr>\n",
       "    <tr>\n",
       "      <th>4</th>\n",
       "      <td>4861STDY7462257-AAGCCGCTCTAACTTC</td>\n",
       "      <td>-5.834578</td>\n",
       "      <td>0.225145</td>\n",
       "      <td>0</td>\n",
       "      <td>A16</td>\n",
       "      <td>6.059723</td>\n",
       "    </tr>\n",
       "    <tr>\n",
       "      <th>...</th>\n",
       "      <td>...</td>\n",
       "      <td>...</td>\n",
       "      <td>...</td>\n",
       "      <td>...</td>\n",
       "      <td>...</td>\n",
       "      <td>...</td>\n",
       "    </tr>\n",
       "    <tr>\n",
       "      <th>5933</th>\n",
       "      <td>WSSS8084745-TTCCAATTCTTCGGTC</td>\n",
       "      <td>-4.503428</td>\n",
       "      <td>6.253497</td>\n",
       "      <td>0</td>\n",
       "      <td>C41</td>\n",
       "      <td>10.756925</td>\n",
       "    </tr>\n",
       "    <tr>\n",
       "      <th>5934</th>\n",
       "      <td>WSSS8084745-TTCGCTGTCTGGCCGA</td>\n",
       "      <td>-5.760673</td>\n",
       "      <td>-5.363388</td>\n",
       "      <td>0</td>\n",
       "      <td>C41</td>\n",
       "      <td>0.397285</td>\n",
       "    </tr>\n",
       "    <tr>\n",
       "      <th>5935</th>\n",
       "      <td>WSSS8084745-TTGACCCGTACGTGAG</td>\n",
       "      <td>-5.284623</td>\n",
       "      <td>5.622713</td>\n",
       "      <td>0</td>\n",
       "      <td>C41</td>\n",
       "      <td>10.907336</td>\n",
       "    </tr>\n",
       "    <tr>\n",
       "      <th>5936</th>\n",
       "      <td>WSSS8084745-TTGTGTTCAGTTGCGC</td>\n",
       "      <td>-4.376831</td>\n",
       "      <td>5.115676</td>\n",
       "      <td>0</td>\n",
       "      <td>C41</td>\n",
       "      <td>9.492507</td>\n",
       "    </tr>\n",
       "    <tr>\n",
       "      <th>5937</th>\n",
       "      <td>WSSS8084745-TTTAGTCAGTCGCCCA</td>\n",
       "      <td>-4.974184</td>\n",
       "      <td>-5.222277</td>\n",
       "      <td>0</td>\n",
       "      <td>C41</td>\n",
       "      <td>0.248093</td>\n",
       "    </tr>\n",
       "  </tbody>\n",
       "</table>\n",
       "<p>2979 rows × 6 columns</p>\n",
       "</div>"
      ],
      "text/plain": [
       "                                   UID        X1        X2  CellType Donor  \\\n",
       "0     4861STDY7462257-AAACCTGCATGGGAAC  6.308161 -3.586926         0   A16   \n",
       "1     4861STDY7462257-AAAGATGGTGTGACGA  2.006791 -7.994239         0   A16   \n",
       "2     4861STDY7462257-AACTCCCGTCCAAGTT -6.246193 -6.825125         0   A16   \n",
       "3     4861STDY7462257-AAGACCTCACGAGAGT  2.936845 -8.620646         0   A16   \n",
       "4     4861STDY7462257-AAGCCGCTCTAACTTC -5.834578  0.225145         0   A16   \n",
       "...                                ...       ...       ...       ...   ...   \n",
       "5933      WSSS8084745-TTCCAATTCTTCGGTC -4.503428  6.253497         0   C41   \n",
       "5934      WSSS8084745-TTCGCTGTCTGGCCGA -5.760673 -5.363388         0   C41   \n",
       "5935      WSSS8084745-TTGACCCGTACGTGAG -5.284623  5.622713         0   C41   \n",
       "5936      WSSS8084745-TTGTGTTCAGTTGCGC -4.376831  5.115676         0   C41   \n",
       "5937      WSSS8084745-TTTAGTCAGTCGCCCA -4.974184 -5.222277         0   C41   \n",
       "\n",
       "         euclid  \n",
       "0      9.895087  \n",
       "1     10.001030  \n",
       "2      0.578931  \n",
       "3     11.557491  \n",
       "4      6.059723  \n",
       "...         ...  \n",
       "5933  10.756925  \n",
       "5934   0.397285  \n",
       "5935  10.907336  \n",
       "5936   9.492507  \n",
       "5937   0.248093  \n",
       "\n",
       "[2979 rows x 6 columns]"
      ]
     },
     "execution_count": 24,
     "metadata": {},
     "output_type": "execute_result"
    }
   ],
   "source": [
    "df1[df1[\"CellType\"] == 0]"
   ]
  },
  {
   "cell_type": "code",
   "execution_count": 25,
   "metadata": {
    "collapsed": false,
    "inputHidden": false,
    "outputHidden": false
   },
   "outputs": [],
   "source": [
    "df1_t = df1[df1[\"CellType\"] == 0] "
   ]
  },
  {
   "cell_type": "code",
   "execution_count": 26,
   "metadata": {
    "collapsed": false,
    "inputHidden": false,
    "outputHidden": false
   },
   "outputs": [],
   "source": [
    "#T細胞のユークリッド距離の信頼区間を求める\n",
    "\n",
    "#個人で分けるか =>donarは指標にない"
   ]
  },
  {
   "cell_type": "code",
   "execution_count": 27,
   "metadata": {
    "collapsed": false,
    "inputHidden": false,
    "outputHidden": false
   },
   "outputs": [
    {
     "data": {
      "text/plain": [
       "<AxesSubplot:xlabel='euclid', ylabel='Count'>"
      ]
     },
     "execution_count": 27,
     "metadata": {},
     "output_type": "execute_result"
    },
    {
     "data": {
      "image/png": "[encoded data removed]",
      "text/plain": [
       "<Figure size 432x288 with 1 Axes>"
      ]
     },
     "metadata": {
      "needs_background": "light"
     },
     "output_type": "display_data"
    }
   ],
   "source": [
    "sns.histplot(df1_t[\"euclid\"])"
   ]
  },
  {
   "cell_type": "code",
   "execution_count": 28,
   "metadata": {
    "collapsed": false,
    "inputHidden": false,
    "outputHidden": false
   },
   "outputs": [],
   "source": [
    "df1_B = df1[df1[\"CellType\"] == 1] "
   ]
  },
  {
   "cell_type": "code",
   "execution_count": 29,
   "metadata": {
    "collapsed": false,
    "inputHidden": false,
    "outputHidden": false
   },
   "outputs": [
    {
     "data": {
      "text/plain": [
       "<AxesSubplot:xlabel='euclid', ylabel='Count'>"
      ]
     },
     "execution_count": 29,
     "metadata": {},
     "output_type": "execute_result"
    },
    {
     "data": {
      "image/png": "[encoded data removed]",
      "text/plain": [
       "<Figure size 432x288 with 1 Axes>"
      ]
     },
     "metadata": {
      "needs_background": "light"
     },
     "output_type": "display_data"
    }
   ],
   "source": [
    "sns.histplot(df1_B[\"euclid\"])"
   ]
  },
  {
   "cell_type": "code",
   "execution_count": 30,
   "metadata": {
    "collapsed": false,
    "inputHidden": false,
    "outputHidden": false
   },
   "outputs": [
    {
     "name": "stdout",
     "output_type": "stream",
     "text": [
      "<class 'pandas.core.frame.DataFrame'>\n",
      "RangeIndex: 1485 entries, 0 to 1484\n",
      "Data columns (total 3 columns):\n",
      " #   Column  Non-Null Count  Dtype  \n",
      "---  ------  --------------  -----  \n",
      " 0   UID     1485 non-null   object \n",
      " 1   X1      1485 non-null   float64\n",
      " 2   X2      1485 non-null   float64\n",
      "dtypes: float64(2), object(1)\n",
      "memory usage: 34.9+ KB\n"
     ]
    }
   ],
   "source": [
    "df2.info()"
   ]
  },
  {
   "cell_type": "code",
   "execution_count": 31,
   "metadata": {
    "collapsed": false,
    "inputHidden": false,
    "outputHidden": false
   },
   "outputs": [
    {
     "data": {
      "text/html": [
       "<div>\n",
       "<style scoped>\n",
       "    .dataframe tbody tr th:only-of-type {\n",
       "        vertical-align: middle;\n",
       "    }\n",
       "\n",
       "    .dataframe tbody tr th {\n",
       "        vertical-align: top;\n",
       "    }\n",
       "\n",
       "    .dataframe thead th {\n",
       "        text-align: right;\n",
       "    }\n",
       "</style>\n",
       "<table border=\"1\" class=\"dataframe\">\n",
       "  <thead>\n",
       "    <tr style=\"text-align: right;\">\n",
       "      <th></th>\n",
       "      <th>UID</th>\n",
       "      <th>X1</th>\n",
       "      <th>X2</th>\n",
       "    </tr>\n",
       "  </thead>\n",
       "  <tbody>\n",
       "    <tr>\n",
       "      <th>0</th>\n",
       "      <td>4861STDY7462257-AGCAGCCCACGAAAGC</td>\n",
       "      <td>-1.536547</td>\n",
       "      <td>-5.808322</td>\n",
       "    </tr>\n",
       "    <tr>\n",
       "      <th>1</th>\n",
       "      <td>4861STDY7462257-AGCGTCGTCTCTAAGG</td>\n",
       "      <td>4.265754</td>\n",
       "      <td>10.928544</td>\n",
       "    </tr>\n",
       "    <tr>\n",
       "      <th>2</th>\n",
       "      <td>4861STDY7462257-CAAGATCCAATAGAGT</td>\n",
       "      <td>4.729420</td>\n",
       "      <td>10.987251</td>\n",
       "    </tr>\n",
       "    <tr>\n",
       "      <th>3</th>\n",
       "      <td>4861STDY7462257-CATATTCTCGCATGAT</td>\n",
       "      <td>4.762176</td>\n",
       "      <td>10.914634</td>\n",
       "    </tr>\n",
       "    <tr>\n",
       "      <th>4</th>\n",
       "      <td>4861STDY7462257-CATCGGGTCAGAGACG</td>\n",
       "      <td>4.917956</td>\n",
       "      <td>10.564189</td>\n",
       "    </tr>\n",
       "  </tbody>\n",
       "</table>\n",
       "</div>"
      ],
      "text/plain": [
       "                                UID        X1         X2\n",
       "0  4861STDY7462257-AGCAGCCCACGAAAGC -1.536547  -5.808322\n",
       "1  4861STDY7462257-AGCGTCGTCTCTAAGG  4.265754  10.928544\n",
       "2  4861STDY7462257-CAAGATCCAATAGAGT  4.729420  10.987251\n",
       "3  4861STDY7462257-CATATTCTCGCATGAT  4.762176  10.914634\n",
       "4  4861STDY7462257-CATCGGGTCAGAGACG  4.917956  10.564189"
      ]
     },
     "execution_count": 31,
     "metadata": {},
     "output_type": "execute_result"
    }
   ],
   "source": [
    "df2.head()"
   ]
  },
  {
   "cell_type": "code",
   "execution_count": 32,
   "metadata": {
    "collapsed": false,
    "inputHidden": false,
    "outputHidden": false
   },
   "outputs": [],
   "source": [
    "euclid = lambda x1, x2: ((x2-x1)**2)**0.5\n",
    "sqrt_ = [euclid(x1, x2) for x1, x2 in zip(df2[\"X1\"], df2[\"X2\"])]"
   ]
  },
  {
   "cell_type": "code",
   "execution_count": 33,
   "metadata": {
    "collapsed": false,
    "inputHidden": false,
    "outputHidden": false
   },
   "outputs": [],
   "source": [
    "df2[\"euclid\"] = sqrt_"
   ]
  },
  {
   "cell_type": "code",
   "execution_count": 34,
   "metadata": {
    "collapsed": false,
    "inputHidden": false,
    "outputHidden": false
   },
   "outputs": [
    {
     "data": {
      "text/html": [
       "<div>\n",
       "<style scoped>\n",
       "    .dataframe tbody tr th:only-of-type {\n",
       "        vertical-align: middle;\n",
       "    }\n",
       "\n",
       "    .dataframe tbody tr th {\n",
       "        vertical-align: top;\n",
       "    }\n",
       "\n",
       "    .dataframe thead th {\n",
       "        text-align: right;\n",
       "    }\n",
       "</style>\n",
       "<table border=\"1\" class=\"dataframe\">\n",
       "  <thead>\n",
       "    <tr style=\"text-align: right;\">\n",
       "      <th></th>\n",
       "      <th>UID</th>\n",
       "      <th>X1</th>\n",
       "      <th>X2</th>\n",
       "      <th>euclid</th>\n",
       "    </tr>\n",
       "  </thead>\n",
       "  <tbody>\n",
       "    <tr>\n",
       "      <th>0</th>\n",
       "      <td>4861STDY7462257-AGCAGCCCACGAAAGC</td>\n",
       "      <td>-1.536547</td>\n",
       "      <td>-5.808322</td>\n",
       "      <td>4.271775</td>\n",
       "    </tr>\n",
       "    <tr>\n",
       "      <th>1</th>\n",
       "      <td>4861STDY7462257-AGCGTCGTCTCTAAGG</td>\n",
       "      <td>4.265754</td>\n",
       "      <td>10.928544</td>\n",
       "      <td>6.662790</td>\n",
       "    </tr>\n",
       "    <tr>\n",
       "      <th>2</th>\n",
       "      <td>4861STDY7462257-CAAGATCCAATAGAGT</td>\n",
       "      <td>4.729420</td>\n",
       "      <td>10.987251</td>\n",
       "      <td>6.257831</td>\n",
       "    </tr>\n",
       "    <tr>\n",
       "      <th>3</th>\n",
       "      <td>4861STDY7462257-CATATTCTCGCATGAT</td>\n",
       "      <td>4.762176</td>\n",
       "      <td>10.914634</td>\n",
       "      <td>6.152457</td>\n",
       "    </tr>\n",
       "    <tr>\n",
       "      <th>4</th>\n",
       "      <td>4861STDY7462257-CATCGGGTCAGAGACG</td>\n",
       "      <td>4.917956</td>\n",
       "      <td>10.564189</td>\n",
       "      <td>5.646233</td>\n",
       "    </tr>\n",
       "    <tr>\n",
       "      <th>...</th>\n",
       "      <td>...</td>\n",
       "      <td>...</td>\n",
       "      <td>...</td>\n",
       "      <td>...</td>\n",
       "    </tr>\n",
       "    <tr>\n",
       "      <th>1480</th>\n",
       "      <td>WSSS8084745-TCTCCGAGTTAAACCC</td>\n",
       "      <td>-7.931678</td>\n",
       "      <td>-0.389372</td>\n",
       "      <td>7.542306</td>\n",
       "    </tr>\n",
       "    <tr>\n",
       "      <th>1481</th>\n",
       "      <td>WSSS8084745-TGAATGCCAAAGGCAC</td>\n",
       "      <td>-7.335319</td>\n",
       "      <td>9.316230</td>\n",
       "      <td>16.651549</td>\n",
       "    </tr>\n",
       "    <tr>\n",
       "      <th>1482</th>\n",
       "      <td>WSSS8084745-TGTTCTAAGAAGTCTA</td>\n",
       "      <td>-5.975731</td>\n",
       "      <td>8.621099</td>\n",
       "      <td>14.596830</td>\n",
       "    </tr>\n",
       "    <tr>\n",
       "      <th>1483</th>\n",
       "      <td>WSSS8084745-TTTGGTTAGACCACGA</td>\n",
       "      <td>-6.687650</td>\n",
       "      <td>8.830683</td>\n",
       "      <td>15.518333</td>\n",
       "    </tr>\n",
       "    <tr>\n",
       "      <th>1484</th>\n",
       "      <td>WSSS8084745-TTTGGTTTCGAGCACC</td>\n",
       "      <td>-6.263548</td>\n",
       "      <td>9.855599</td>\n",
       "      <td>16.119147</td>\n",
       "    </tr>\n",
       "  </tbody>\n",
       "</table>\n",
       "<p>1485 rows × 4 columns</p>\n",
       "</div>"
      ],
      "text/plain": [
       "                                   UID        X1         X2     euclid\n",
       "0     4861STDY7462257-AGCAGCCCACGAAAGC -1.536547  -5.808322   4.271775\n",
       "1     4861STDY7462257-AGCGTCGTCTCTAAGG  4.265754  10.928544   6.662790\n",
       "2     4861STDY7462257-CAAGATCCAATAGAGT  4.729420  10.987251   6.257831\n",
       "3     4861STDY7462257-CATATTCTCGCATGAT  4.762176  10.914634   6.152457\n",
       "4     4861STDY7462257-CATCGGGTCAGAGACG  4.917956  10.564189   5.646233\n",
       "...                                ...       ...        ...        ...\n",
       "1480      WSSS8084745-TCTCCGAGTTAAACCC -7.931678  -0.389372   7.542306\n",
       "1481      WSSS8084745-TGAATGCCAAAGGCAC -7.335319   9.316230  16.651549\n",
       "1482      WSSS8084745-TGTTCTAAGAAGTCTA -5.975731   8.621099  14.596830\n",
       "1483      WSSS8084745-TTTGGTTAGACCACGA -6.687650   8.830683  15.518333\n",
       "1484      WSSS8084745-TTTGGTTTCGAGCACC -6.263548   9.855599  16.119147\n",
       "\n",
       "[1485 rows x 4 columns]"
      ]
     },
     "execution_count": 34,
     "metadata": {},
     "output_type": "execute_result"
    }
   ],
   "source": [
    "df2"
   ]
  },
  {
   "cell_type": "code",
   "execution_count": 35,
   "metadata": {
    "collapsed": false,
    "inputHidden": false,
    "outputHidden": false
   },
   "outputs": [
    {
     "data": {
      "text/plain": [
       "<AxesSubplot:xlabel='euclid', ylabel='Count'>"
      ]
     },
     "execution_count": 35,
     "metadata": {},
     "output_type": "execute_result"
    },
    {
     "data": {
      "image/png": "[encoded data removed]",
      "text/plain": [
       "<Figure size 432x288 with 1 Axes>"
      ]
     },
     "metadata": {
      "needs_background": "light"
     },
     "output_type": "display_data"
    }
   ],
   "source": [
    "sns.histplot(df2[\"euclid\"])"
   ]
  },
  {
   "cell_type": "code",
   "execution_count": 36,
   "metadata": {
    "collapsed": false,
    "inputHidden": false,
    "outputHidden": false
   },
   "outputs": [
    {
     "name": "stdout",
     "output_type": "stream",
     "text": [
      "4.023037351218009\n"
     ]
    }
   ],
   "source": [
    "#確率\n",
    "\n",
    "##T\n",
    "# 平均\n",
    "avg = sum(df1_t[\"euclid\"]) / len(df1_t[\"euclid\"])\n",
    "\n",
    "#分散\n",
    "v = sum([(v-avg)**2 for v in df1_t[\"euclid\"]])/ len(df1_t[\"euclid\"])\n",
    "\n",
    "# 標準偏差\n",
    "std_t = v ** 0.5\n",
    "    \n",
    "print(std_t)"
   ]
  },
  {
   "cell_type": "code",
   "execution_count": 37,
   "metadata": {
    "collapsed": false,
    "inputHidden": false,
    "outputHidden": false
   },
   "outputs": [
    {
     "name": "stdout",
     "output_type": "stream",
     "text": [
      "0.5977649193574026\n"
     ]
    }
   ],
   "source": [
    "#確率\n",
    "\n",
    "##B\n",
    "# 平均\n",
    "avg = sum(df1_B[\"euclid\"]) / len(df1_B[\"euclid\"])\n",
    "\n",
    "#分散\n",
    "v = sum([(v-avg)**2 for v in df1_B[\"euclid\"]])/ len(df1_B[\"euclid\"])\n",
    "\n",
    "# 標準偏差\n",
    "std_b = v ** 0.5\n",
    "    \n",
    "print(std_b)"
   ]
  },
  {
   "cell_type": "code",
   "execution_count": 38,
   "metadata": {
    "collapsed": false,
    "inputHidden": false,
    "outputHidden": false
   },
   "outputs": [
    {
     "data": {
      "text/plain": [
       "T06_TH_TOT_5GEX_1_S9-GTGGGTCGTATGCTTG     1\n",
       "4861STDY7528592-TACAGTGAGGCCATAG          1\n",
       "4861STDY7528587-GTATCTTGTATGCTTG          1\n",
       "T06_TH_TOT_5GEX_2_S10-TTGGCAATCTATGTGG    1\n",
       "WSSS8062669-ACACTGAGTACCGAGA              1\n",
       "                                         ..\n",
       "4861STDY7462261-AGCGTATCAGGAACGT          1\n",
       "T03_TH_TOT_5GEX_2_S2-GACCTGGAGGGATACC     1\n",
       "T07_TH_TOT_2_S2-ATAAGAGTCCAAGTAC          1\n",
       "WSSS8062669-GACTACAAGAAACGAG              1\n",
       "4861STDY7462260-AACCATGCACGCGAAA          1\n",
       "Name: UID, Length: 1485, dtype: int64"
      ]
     },
     "execution_count": 38,
     "metadata": {},
     "output_type": "execute_result"
    }
   ],
   "source": [
    "df2[\"UID\"].value_counts()"
   ]
  },
  {
   "cell_type": "code",
   "execution_count": 39,
   "metadata": {
    "collapsed": false,
    "inputHidden": false,
    "outputHidden": false
   },
   "outputs": [],
   "source": [
    "repalce_uid = lambda x: x.split(\"-\")[0]\n",
    "df1[\"UID_cut\"] = [repalce_uid(x) for x in df1[\"UID\"]]"
   ]
  },
  {
   "cell_type": "code",
   "execution_count": 40,
   "metadata": {
    "collapsed": false,
    "inputHidden": false,
    "outputHidden": false
   },
   "outputs": [
    {
     "data": {
      "text/plain": [
       "WSSS8062669               1199\n",
       "T07_TH_TOT_1_S1            315\n",
       "T06_TH_TOT_5GEX_3_S11      233\n",
       "T06_TH_TOT_5GEX_1_S9       231\n",
       "T07_TH_TOT_2_S2            213\n",
       "T06_TH_TOT_5GEX_4_S12      185\n",
       "T06_TH_TOT_5GEX_2_S10      178\n",
       "4861STDY7528592            162\n",
       "4861STDY7462264            161\n",
       "Human_colon_16S7985396     154\n",
       "4861STDY7462262            134\n",
       "4861STDY7462261            134\n",
       "WSSS8062674                134\n",
       "4861STDY7528590            133\n",
       "FCAImmP7851893             131\n",
       "T03_TH_TOT_5GEX_2_S2       127\n",
       "FCAImmP7851891             126\n",
       "4861STDY7462263            125\n",
       "WSSS8084745                123\n",
       "4861STDY7528589            122\n",
       "FCAImmP7851890             122\n",
       "FCAImmP7851894             119\n",
       "FCAImmP7851895             113\n",
       "4861STDY7528591            106\n",
       "FCAImmP7851892             103\n",
       "WSSS8084744                 99\n",
       "4861STDY7528588             90\n",
       "4861STDY7528587             88\n",
       "WSSS8084742                 84\n",
       "WSSS8084743                 80\n",
       "4861STDY7528586             80\n",
       "4861STDY7462260             73\n",
       "T03_TH_TOT_5GEX_1_S1        72\n",
       "FCAImmP7198432              69\n",
       "4861STDY7462258             68\n",
       "4861STDY7462257             68\n",
       "Human_colon_16S7985397      62\n",
       "4861STDY7462259             60\n",
       "4861STDY7528585             51\n",
       "5478STDY7935100             11\n",
       "Name: UID_cut, dtype: int64"
      ]
     },
     "execution_count": 40,
     "metadata": {},
     "output_type": "execute_result"
    }
   ],
   "source": [
    "df1[\"UID_cut\"].value_counts()"
   ]
  },
  {
   "cell_type": "code",
   "execution_count": 41,
   "metadata": {
    "collapsed": false,
    "inputHidden": false,
    "outputHidden": false
   },
   "outputs": [
    {
     "name": "stdout",
     "output_type": "stream",
     "text": [
      "<class 'pandas.core.frame.DataFrame'>\n",
      "RangeIndex: 5938 entries, 0 to 5937\n",
      "Data columns (total 7 columns):\n",
      " #   Column    Non-Null Count  Dtype  \n",
      "---  ------    --------------  -----  \n",
      " 0   UID       5938 non-null   object \n",
      " 1   X1        5938 non-null   float64\n",
      " 2   X2        5938 non-null   float64\n",
      " 3   CellType  5938 non-null   int64  \n",
      " 4   Donor     5938 non-null   object \n",
      " 5   euclid    5938 non-null   float64\n",
      " 6   UID_cut   5938 non-null   object \n",
      "dtypes: float64(3), int64(1), object(3)\n",
      "memory usage: 324.9+ KB\n"
     ]
    }
   ],
   "source": [
    "df1.info()"
   ]
  },
  {
   "cell_type": "code",
   "execution_count": 42,
   "metadata": {
    "collapsed": false,
    "inputHidden": false,
    "outputHidden": false
   },
   "outputs": [],
   "source": [
    "repalce_uid = lambda x: x.split(\"-\")[0]\n",
    "df2[\"UID_cut\"] = [repalce_uid(x) for x in df2[\"UID\"]]"
   ]
  },
  {
   "cell_type": "code",
   "execution_count": 43,
   "metadata": {
    "collapsed": false,
    "inputHidden": false,
    "outputHidden": false
   },
   "outputs": [
    {
     "data": {
      "text/plain": [
       "WSSS8062669               298\n",
       "T07_TH_TOT_1_S1            68\n",
       "T06_TH_TOT_5GEX_3_S11      65\n",
       "T07_TH_TOT_2_S2            56\n",
       "4861STDY7462261            52\n",
       "T06_TH_TOT_5GEX_1_S9       49\n",
       "4861STDY7462262            46\n",
       "T06_TH_TOT_5GEX_4_S12      45\n",
       "4861STDY7528591            42\n",
       "WSSS8084744                39\n",
       "4861STDY7462263            39\n",
       "T06_TH_TOT_5GEX_2_S10      38\n",
       "Human_colon_16S7985396     35\n",
       "WSSS8062674                35\n",
       "4861STDY7528589            33\n",
       "4861STDY7528592            33\n",
       "FCAImmP7851892             33\n",
       "WSSS8084745                33\n",
       "T03_TH_TOT_5GEX_2_S2       32\n",
       "FCAImmP7851894             30\n",
       "WSSS8084742                29\n",
       "4861STDY7462264            27\n",
       "FCAImmP7851891             27\n",
       "4861STDY7462260            25\n",
       "4861STDY7528590            25\n",
       "FCAImmP7198432             24\n",
       "T03_TH_TOT_5GEX_1_S1       23\n",
       "4861STDY7462258            23\n",
       "4861STDY7528586            23\n",
       "WSSS8084743                23\n",
       "FCAImmP7851890             20\n",
       "FCAImmP7851895             20\n",
       "FCAImmP7851893             19\n",
       "4861STDY7528587            17\n",
       "4861STDY7528588            15\n",
       "4861STDY7462259            13\n",
       "4861STDY7462257            12\n",
       "4861STDY7528585            10\n",
       "Human_colon_16S7985397      8\n",
       "5478STDY7935100             1\n",
       "Name: UID_cut, dtype: int64"
      ]
     },
     "execution_count": 43,
     "metadata": {},
     "output_type": "execute_result"
    }
   ],
   "source": [
    "df2[\"UID_cut\"].value_counts()"
   ]
  },
  {
   "cell_type": "code",
   "execution_count": 44,
   "metadata": {
    "collapsed": false,
    "inputHidden": false,
    "outputHidden": false
   },
   "outputs": [
    {
     "name": "stdout",
     "output_type": "stream",
     "text": [
      "<class 'pandas.core.frame.DataFrame'>\n",
      "RangeIndex: 1485 entries, 0 to 1484\n",
      "Data columns (total 5 columns):\n",
      " #   Column   Non-Null Count  Dtype  \n",
      "---  ------   --------------  -----  \n",
      " 0   UID      1485 non-null   object \n",
      " 1   X1       1485 non-null   float64\n",
      " 2   X2       1485 non-null   float64\n",
      " 3   euclid   1485 non-null   float64\n",
      " 4   UID_cut  1485 non-null   object \n",
      "dtypes: float64(3), object(2)\n",
      "memory usage: 58.1+ KB\n"
     ]
    }
   ],
   "source": [
    "df2.info()"
   ]
  },
  {
   "cell_type": "code",
   "execution_count": 45,
   "metadata": {
    "collapsed": false,
    "inputHidden": false,
    "outputHidden": false
   },
   "outputs": [
    {
     "data": {
      "text/plain": [
       "A16    1655\n",
       "A43    1333\n",
       "T06     827\n",
       "T07     528\n",
       "F67     466\n",
       "F64     248\n",
       "C41     222\n",
       "F74     216\n",
       "T03     199\n",
       "C40     164\n",
       "F22      69\n",
       "C34      11\n",
       "Name: Donor, dtype: int64"
      ]
     },
     "execution_count": 45,
     "metadata": {},
     "output_type": "execute_result"
    }
   ],
   "source": [
    "df1[\"Donor\"].value_counts()"
   ]
  },
  {
   "cell_type": "code",
   "execution_count": 46,
   "metadata": {
    "collapsed": false,
    "inputHidden": false,
    "outputHidden": false
   },
   "outputs": [
    {
     "data": {
      "text/html": [
       "<div>\n",
       "<style scoped>\n",
       "    .dataframe tbody tr th:only-of-type {\n",
       "        vertical-align: middle;\n",
       "    }\n",
       "\n",
       "    .dataframe tbody tr th {\n",
       "        vertical-align: top;\n",
       "    }\n",
       "\n",
       "    .dataframe thead th {\n",
       "        text-align: right;\n",
       "    }\n",
       "</style>\n",
       "<table border=\"1\" class=\"dataframe\">\n",
       "  <thead>\n",
       "    <tr style=\"text-align: right;\">\n",
       "      <th></th>\n",
       "      <th>UID</th>\n",
       "      <th>X1</th>\n",
       "      <th>X2</th>\n",
       "      <th>CellType</th>\n",
       "      <th>Donor</th>\n",
       "      <th>euclid</th>\n",
       "      <th>UID_cut</th>\n",
       "    </tr>\n",
       "  </thead>\n",
       "  <tbody>\n",
       "    <tr>\n",
       "      <th>0</th>\n",
       "      <td>4861STDY7462257-AAACCTGCATGGGAAC</td>\n",
       "      <td>6.308161</td>\n",
       "      <td>-3.586926</td>\n",
       "      <td>0</td>\n",
       "      <td>A16</td>\n",
       "      <td>9.895087</td>\n",
       "      <td>4861STDY7462257</td>\n",
       "    </tr>\n",
       "    <tr>\n",
       "      <th>1</th>\n",
       "      <td>4861STDY7462257-AAAGATGGTGTGACGA</td>\n",
       "      <td>2.006791</td>\n",
       "      <td>-7.994239</td>\n",
       "      <td>0</td>\n",
       "      <td>A16</td>\n",
       "      <td>10.001030</td>\n",
       "      <td>4861STDY7462257</td>\n",
       "    </tr>\n",
       "    <tr>\n",
       "      <th>2</th>\n",
       "      <td>4861STDY7462257-AACTCCCGTCCAAGTT</td>\n",
       "      <td>-6.246193</td>\n",
       "      <td>-6.825125</td>\n",
       "      <td>0</td>\n",
       "      <td>A16</td>\n",
       "      <td>0.578931</td>\n",
       "      <td>4861STDY7462257</td>\n",
       "    </tr>\n",
       "    <tr>\n",
       "      <th>3</th>\n",
       "      <td>4861STDY7462257-AAGACCTCACGAGAGT</td>\n",
       "      <td>2.936845</td>\n",
       "      <td>-8.620646</td>\n",
       "      <td>0</td>\n",
       "      <td>A16</td>\n",
       "      <td>11.557491</td>\n",
       "      <td>4861STDY7462257</td>\n",
       "    </tr>\n",
       "    <tr>\n",
       "      <th>4</th>\n",
       "      <td>4861STDY7462257-AAGCCGCTCTAACTTC</td>\n",
       "      <td>-5.834578</td>\n",
       "      <td>0.225145</td>\n",
       "      <td>0</td>\n",
       "      <td>A16</td>\n",
       "      <td>6.059723</td>\n",
       "      <td>4861STDY7462257</td>\n",
       "    </tr>\n",
       "    <tr>\n",
       "      <th>...</th>\n",
       "      <td>...</td>\n",
       "      <td>...</td>\n",
       "      <td>...</td>\n",
       "      <td>...</td>\n",
       "      <td>...</td>\n",
       "      <td>...</td>\n",
       "      <td>...</td>\n",
       "    </tr>\n",
       "    <tr>\n",
       "      <th>1650</th>\n",
       "      <td>4861STDY7528592-TTGACTTTCGTTTATC</td>\n",
       "      <td>5.193381</td>\n",
       "      <td>-3.719858</td>\n",
       "      <td>0</td>\n",
       "      <td>A16</td>\n",
       "      <td>8.913239</td>\n",
       "      <td>4861STDY7528592</td>\n",
       "    </tr>\n",
       "    <tr>\n",
       "      <th>1651</th>\n",
       "      <td>4861STDY7528592-TTGTAGGTCTACGAGT</td>\n",
       "      <td>6.464887</td>\n",
       "      <td>-2.965160</td>\n",
       "      <td>0</td>\n",
       "      <td>A16</td>\n",
       "      <td>9.430047</td>\n",
       "      <td>4861STDY7528592</td>\n",
       "    </tr>\n",
       "    <tr>\n",
       "      <th>1652</th>\n",
       "      <td>4861STDY7528592-TTTATGCAGATAGCAT</td>\n",
       "      <td>-2.299679</td>\n",
       "      <td>-5.222311</td>\n",
       "      <td>0</td>\n",
       "      <td>A16</td>\n",
       "      <td>2.922632</td>\n",
       "      <td>4861STDY7528592</td>\n",
       "    </tr>\n",
       "    <tr>\n",
       "      <th>1653</th>\n",
       "      <td>4861STDY7528592-TTTGCGCTCGCCAAAT</td>\n",
       "      <td>4.830789</td>\n",
       "      <td>11.055047</td>\n",
       "      <td>1</td>\n",
       "      <td>A16</td>\n",
       "      <td>6.224258</td>\n",
       "      <td>4861STDY7528592</td>\n",
       "    </tr>\n",
       "    <tr>\n",
       "      <th>1654</th>\n",
       "      <td>4861STDY7528592-TTTGGTTCAATAGCAA</td>\n",
       "      <td>5.247502</td>\n",
       "      <td>12.294578</td>\n",
       "      <td>1</td>\n",
       "      <td>A16</td>\n",
       "      <td>7.047076</td>\n",
       "      <td>4861STDY7528592</td>\n",
       "    </tr>\n",
       "  </tbody>\n",
       "</table>\n",
       "<p>1655 rows × 7 columns</p>\n",
       "</div>"
      ],
      "text/plain": [
       "                                   UID        X1         X2  CellType Donor  \\\n",
       "0     4861STDY7462257-AAACCTGCATGGGAAC  6.308161  -3.586926         0   A16   \n",
       "1     4861STDY7462257-AAAGATGGTGTGACGA  2.006791  -7.994239         0   A16   \n",
       "2     4861STDY7462257-AACTCCCGTCCAAGTT -6.246193  -6.825125         0   A16   \n",
       "3     4861STDY7462257-AAGACCTCACGAGAGT  2.936845  -8.620646         0   A16   \n",
       "4     4861STDY7462257-AAGCCGCTCTAACTTC -5.834578   0.225145         0   A16   \n",
       "...                                ...       ...        ...       ...   ...   \n",
       "1650  4861STDY7528592-TTGACTTTCGTTTATC  5.193381  -3.719858         0   A16   \n",
       "1651  4861STDY7528592-TTGTAGGTCTACGAGT  6.464887  -2.965160         0   A16   \n",
       "1652  4861STDY7528592-TTTATGCAGATAGCAT -2.299679  -5.222311         0   A16   \n",
       "1653  4861STDY7528592-TTTGCGCTCGCCAAAT  4.830789  11.055047         1   A16   \n",
       "1654  4861STDY7528592-TTTGGTTCAATAGCAA  5.247502  12.294578         1   A16   \n",
       "\n",
       "         euclid          UID_cut  \n",
       "0      9.895087  4861STDY7462257  \n",
       "1     10.001030  4861STDY7462257  \n",
       "2      0.578931  4861STDY7462257  \n",
       "3     11.557491  4861STDY7462257  \n",
       "4      6.059723  4861STDY7462257  \n",
       "...         ...              ...  \n",
       "1650   8.913239  4861STDY7528592  \n",
       "1651   9.430047  4861STDY7528592  \n",
       "1652   2.922632  4861STDY7528592  \n",
       "1653   6.224258  4861STDY7528592  \n",
       "1654   7.047076  4861STDY7528592  \n",
       "\n",
       "[1655 rows x 7 columns]"
      ]
     },
     "execution_count": 46,
     "metadata": {},
     "output_type": "execute_result"
    }
   ],
   "source": [
    "df1[df1[\"Donor\"] == \"A16\"]"
   ]
  },
  {
   "cell_type": "code",
   "execution_count": 47,
   "metadata": {
    "collapsed": false,
    "inputHidden": false,
    "outputHidden": false
   },
   "outputs": [],
   "source": [
    "a = df1[\"UID_cut\"].value_counts()\n",
    "b = df2[\"UID_cut\"].value_counts()"
   ]
  },
  {
   "cell_type": "code",
   "execution_count": 48,
   "metadata": {
    "collapsed": false,
    "inputHidden": false,
    "outputHidden": false
   },
   "outputs": [
    {
     "name": "stdout",
     "output_type": "stream",
     "text": [
      "40\n",
      "40\n"
     ]
    }
   ],
   "source": [
    "print(len(a))\n",
    "print(len(b))"
   ]
  },
  {
   "cell_type": "code",
   "execution_count": 49,
   "metadata": {
    "collapsed": false,
    "inputHidden": false,
    "outputHidden": false
   },
   "outputs": [
    {
     "data": {
      "text/plain": [
       "1    104\n",
       "0     58\n",
       "Name: CellType, dtype: int64"
      ]
     },
     "execution_count": 49,
     "metadata": {},
     "output_type": "execute_result"
    }
   ],
   "source": [
    "df1[df1[\"UID_cut\"] == \"4861STDY7528592\"][\"CellType\"].value_counts()"
   ]
  },
  {
   "cell_type": "code",
   "execution_count": 50,
   "metadata": {
    "collapsed": false,
    "inputHidden": false,
    "outputHidden": false
   },
   "outputs": [
    {
     "data": {
      "text/plain": [
       "<AxesSubplot:xlabel='euclid', ylabel='Count'>"
      ]
     },
     "execution_count": 50,
     "metadata": {},
     "output_type": "execute_result"
    },
    {
     "data": {
      "image/png": "[encoded data removed]",
      "text/plain": [
       "<Figure size 432x288 with 1 Axes>"
      ]
     },
     "metadata": {
      "needs_background": "light"
     },
     "output_type": "display_data"
    }
   ],
   "source": [
    "sns.histplot(df1[df1[\"UID_cut\"] == \"4861STDY7528592\"][\"euclid\"])"
   ]
  },
  {
   "cell_type": "code",
   "execution_count": 51,
   "metadata": {
    "collapsed": false,
    "inputHidden": false,
    "outputHidden": false
   },
   "outputs": [
    {
     "data": {
      "text/plain": [
       "<matplotlib.collections.PathCollection at 0x7f32a28971f0>"
      ]
     },
     "execution_count": 51,
     "metadata": {},
     "output_type": "execute_result"
    },
    {
     "data": {
      "image/png": "[encoded data removed]",
      "text/plain": [
       "<Figure size 432x288 with 1 Axes>"
      ]
     },
     "metadata": {
      "needs_background": "light"
     },
     "output_type": "display_data"
    }
   ],
   "source": [
    "# index = df1[df1[\"UID_cut\"] == \"4861STDY7528592\"][\"euclid\"].\n",
    "x = df1[df1[\"UID_cut\"] == \"4861STDY7528592\"][\"X1\"]\n",
    "y = df1[df1[\"UID_cut\"] == \"4861STDY7528592\"][\"X2\"]\n",
    "plt.scatter(x, y)"
   ]
  },
  {
   "cell_type": "code",
   "execution_count": 52,
   "metadata": {
    "collapsed": false,
    "inputHidden": false,
    "outputHidden": false
   },
   "outputs": [
    {
     "data": {
      "image/png": "[encoded data removed]",
      "text/plain": [
       "<Figure size 432x288 with 1 Axes>"
      ]
     },
     "metadata": {
      "needs_background": "light"
     },
     "output_type": "display_data"
    }
   ],
   "source": [
    "plt.scatter(x, y)\n",
    "\n",
    "annotations = df1[df1[\"UID_cut\"] == \"4861STDY7528592\"][\"CellType\"]\n",
    "for i, label in enumerate(list(annotations)):\n",
    "    plt.annotate(label, (list(x)[i], list(y)[i]))\n",
    "                          \n",
    "plt.show()"
   ]
  },
  {
   "cell_type": "code",
   "execution_count": 53,
   "metadata": {
    "collapsed": false,
    "inputHidden": false,
    "outputHidden": false
   },
   "outputs": [],
   "source": [
    "\n",
    "##x1とx2のから閾値を決めて分類す"
   ]
  },
  {
   "cell_type": "code",
   "execution_count": 53,
   "metadata": {
    "collapsed": false,
    "inputHidden": false,
    "outputHidden": false
   },
   "outputs": [],
   "source": []
  },
  {
   "cell_type": "code",
   "execution_count": 53,
   "metadata": {
    "collapsed": false,
    "inputHidden": false,
    "outputHidden": false
   },
   "outputs": [],
   "source": []
  },
  {
   "cell_type": "code",
   "execution_count": 53,
   "metadata": {
    "collapsed": false,
    "inputHidden": false,
    "outputHidden": false
   },
   "outputs": [],
   "source": []
  },
  {
   "cell_type": "code",
   "execution_count": 53,
   "metadata": {
    "collapsed": false,
    "inputHidden": false,
    "outputHidden": false
   },
   "outputs": [],
   "source": []
  }
 ],
 "metadata": {
  "kernelspec": {
   "display_name": "Python 3",
   "language": "python",
   "name": "python3"
  },
  "language_info": {
   "codemirror_mode": {
    "name": "ipython",
    "version": 3
   },
   "file_extension": ".py",
   "mimetype": "text/x-python",
   "name": "python",
   "nbconvert_exporter": "python",
   "pygments_lexer": "ipython3",
   "version": "3.9.3"
  },
  "nteract": {
   "version": "nteract-on-jupyter@2.1.3"
  }
 },
 "nbformat": 4,
 "nbformat_minor": 2
}
